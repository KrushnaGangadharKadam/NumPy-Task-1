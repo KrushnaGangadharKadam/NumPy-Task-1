{
 "cells": [
  {
   "cell_type": "markdown",
   "id": "a355c2eb-84fb-491a-9acc-bcaa2bb62758",
   "metadata": {},
   "source": [
    "1.Create a 1D NumPy array of numbers from 0 to 9."
   ]
  },
  {
   "cell_type": "code",
   "execution_count": 2,
   "id": "38bc513b-3699-471a-b4aa-c25170317fa7",
   "metadata": {},
   "outputs": [],
   "source": [
    "import numpy as np"
   ]
  },
  {
   "cell_type": "code",
   "execution_count": 3,
   "id": "cce23ce3-439d-4d04-9693-071b3b2b5c65",
   "metadata": {},
   "outputs": [
    {
     "data": {
      "text/plain": [
       "array([0, 1, 2, 3, 4, 5, 6, 7, 8, 9])"
      ]
     },
     "execution_count": 3,
     "metadata": {},
     "output_type": "execute_result"
    }
   ],
   "source": [
    "Arr =np.array([0,1,2,3,4,5,6,7,8,9])\n",
    "Arr"
   ]
  },
  {
   "cell_type": "markdown",
   "id": "4869ed2a-144c-43d8-a1b4-db54bbf92a0b",
   "metadata": {},
   "source": [
    "2.Create a 2D array of shape (3, 3) with all elements as 1."
   ]
  },
  {
   "cell_type": "code",
   "execution_count": 4,
   "id": "dd7f16b3-05a5-4a77-8ab8-206c96488e26",
   "metadata": {},
   "outputs": [
    {
     "data": {
      "text/plain": [
       "array([[1, 1, 1],\n",
       "       [1, 1, 1],\n",
       "       [1, 1, 1]])"
      ]
     },
     "execution_count": 4,
     "metadata": {},
     "output_type": "execute_result"
    }
   ],
   "source": [
    "Arr2=np.array([1,1,1,1,1,1,1,1,1]).reshape(3,3)\n",
    "Arr2"
   ]
  },
  {
   "cell_type": "markdown",
   "id": "41d2aa5f-7ccb-4442-a9f2-40e9dc6c083f",
   "metadata": {},
   "source": [
    "3.Generate a NumPy array of 15 random integers between 10 and 50."
   ]
  },
  {
   "cell_type": "code",
   "execution_count": 5,
   "id": "962f8a59-a9b6-4d33-b663-d1b3010dd51f",
   "metadata": {},
   "outputs": [
    {
     "data": {
      "text/plain": [
       "[45, 46, 27, 22, 18, 15, 26, 33, 10, 49, 42, 43, 28, 6, 31]"
      ]
     },
     "execution_count": 5,
     "metadata": {},
     "output_type": "execute_result"
    }
   ],
   "source": [
    "Arr3=([45,46,27,22,18,15,26,33,10,49,42,43,28,6,31,])\n",
    "Arr3"
   ]
  },
  {
   "cell_type": "markdown",
   "id": "2f3f5590-3d95-47e8-a931-3c2b8b354cb7",
   "metadata": {},
   "source": [
    "4.Create an array of 5 evenly spaced numbers between 0 and 1 (inclusive)."
   ]
  },
  {
   "cell_type": "code",
   "execution_count": 7,
   "id": "77fa15c1-304f-4302-a881-0ecfdc3db139",
   "metadata": {},
   "outputs": [
    {
     "data": {
      "text/plain": [
       "array([0. , 0.2, 0.4, 0.6, 0.8])"
      ]
     },
     "execution_count": 7,
     "metadata": {},
     "output_type": "execute_result"
    }
   ],
   "source": [
    "Arr4 =np.array([0.0,0.2,0.4,0.6,0.8])\n",
    "Arr4"
   ]
  },
  {
   "cell_type": "markdown",
   "id": "ddbdb17b-6377-4016-a5d7-df0bcbc8db86",
   "metadata": {},
   "source": [
    "5.Create a 4x4 identity matrix using NumPy."
   ]
  },
  {
   "cell_type": "code",
   "execution_count": 10,
   "id": "9c3c4d2d-5905-4147-b140-f50f4be18879",
   "metadata": {},
   "outputs": [
    {
     "data": {
      "text/plain": [
       "array([[ 1,  2,  3,  4],\n",
       "       [ 5,  6,  7,  8],\n",
       "       [ 9, 10, 11, 12],\n",
       "       [13, 14, 15, 16]])"
      ]
     },
     "execution_count": 10,
     "metadata": {},
     "output_type": "execute_result"
    }
   ],
   "source": [
    "arl=np.array([1,2,3,4,5,6,7,8,9,10,11,12,13,14,15,16])\n",
    "Arr5 =arl.reshape(4,4)\n",
    "Arr5"
   ]
  },
  {
   "cell_type": "markdown",
   "id": "34cbbed2-7e24-4b7b-afb3-16baa4258742",
   "metadata": {},
   "source": [
    "6.Create an array from the list [10, 20, 30, 40] and change the data type to float."
   ]
  },
  {
   "cell_type": "code",
   "execution_count": 11,
   "id": "f94bdeab-fc6c-42d2-8ddc-43b48139e61c",
   "metadata": {},
   "outputs": [
    {
     "data": {
      "text/plain": [
       "array([10., 20., 30., 40.], dtype=float32)"
      ]
     },
     "execution_count": 11,
     "metadata": {},
     "output_type": "execute_result"
    }
   ],
   "source": [
    "list =[10,20,30,40]\n",
    "Arr6=np.array(list,dtype=np.float32)\n",
    "Arr6"
   ]
  },
  {
   "cell_type": "markdown",
   "id": "46e3b0bd-59c0-4bd0-a076-9028978cdfdf",
   "metadata": {},
   "source": [
    "7.Create a 3x3 array with values from 1 to 9, then extract the second column."
   ]
  },
  {
   "cell_type": "code",
   "execution_count": 15,
   "id": "420ab378-0ad2-485f-b795-9c7e5e6b648f",
   "metadata": {},
   "outputs": [
    {
     "name": "stdout",
     "output_type": "stream",
     "text": [
      "First column [[1 2 3]\n",
      " [4 5 6]\n",
      " [7 8 9]]\n",
      "Second column [[1 2 3]]\n"
     ]
    }
   ],
   "source": [
    "Arr7=np.array([1,2,3,4,5,6,7,8,9]).reshape(3,3)\n",
    "second_col =Arr7[:1]\n",
    "print(\"First column\",Arr7)\n",
    "print(\"Second column\",second_col)"
   ]
  },
  {
   "cell_type": "markdown",
   "id": "29c7ed74-2267-4272-8c24-e8e912a50eb1",
   "metadata": {},
   "source": [
    "8.Create a 1D array with 10 elements and reshape it into a 2x5 matrix."
   ]
  },
  {
   "cell_type": "code",
   "execution_count": 17,
   "id": "9ea2b1ff-3d9e-4ae4-b644-f766faf44c5d",
   "metadata": {},
   "outputs": [
    {
     "data": {
      "text/plain": [
       "array([[11, 22, 33, 44, 55],\n",
       "       [66, 77, 88, 99,  0]])"
      ]
     },
     "execution_count": 17,
     "metadata": {},
     "output_type": "execute_result"
    }
   ],
   "source": [
    "Arr8=np.array([11,22,33,44,55,66,77,88,99,00]).reshape(2,5)\n",
    "Arr8"
   ]
  },
  {
   "cell_type": "markdown",
   "id": "52156757-f4e0-4506-b6ca-87244cd6dcca",
   "metadata": {},
   "source": [
    "9.Create two 2x2 matrices and perform matrix multiplication."
   ]
  },
  {
   "cell_type": "code",
   "execution_count": 18,
   "id": "68a94041-71a7-4633-ad23-bbeddba4ad06",
   "metadata": {},
   "outputs": [
    {
     "data": {
      "text/plain": [
       "array([[90, 36],\n",
       "       [54, 56]])"
      ]
     },
     "execution_count": 18,
     "metadata": {},
     "output_type": "execute_result"
    }
   ],
   "source": [
    "matri =np.array([45,18,27,28]).reshape(2,2)\n",
    "matri*2"
   ]
  },
  {
   "cell_type": "code",
   "execution_count": 19,
   "id": "5556c931-529a-4eb0-85ac-b00d1927dab6",
   "metadata": {},
   "outputs": [
    {
     "data": {
      "text/plain": [
       "array([[54. , 21.6],\n",
       "       [32.4, 33.6]])"
      ]
     },
     "execution_count": 19,
     "metadata": {},
     "output_type": "execute_result"
    }
   ],
   "source": [
    "matri*1.2"
   ]
  },
  {
   "cell_type": "markdown",
   "id": "329c86b5-02d6-43c6-96d8-f36ebce8b476",
   "metadata": {},
   "source": [
    "10.Given the array arr = np.array([5, 12, 7, 18, 3]), replace all values greater than 10 with 100."
   ]
  },
  {
   "cell_type": "code",
   "execution_count": 22,
   "id": "6e2de055-1003-4e3a-974e-513c77470fdb",
   "metadata": {},
   "outputs": [],
   "source": [
    "  Arr10 = np.array([5, 12, 7, 18, 3])\n",
    "Arr10[Arr10>10]=100"
   ]
  },
  {
   "cell_type": "code",
   "execution_count": null,
   "id": "9b0c14f7-3966-4370-8b74-81da779d44e5",
   "metadata": {},
   "outputs": [],
   "source": []
  }
 ],
 "metadata": {
  "kernelspec": {
   "display_name": "Python 3 (ipykernel)",
   "language": "python",
   "name": "python3"
  },
  "language_info": {
   "codemirror_mode": {
    "name": "ipython",
    "version": 3
   },
   "file_extension": ".py",
   "mimetype": "text/x-python",
   "name": "python",
   "nbconvert_exporter": "python",
   "pygments_lexer": "ipython3",
   "version": "3.12.7"
  }
 },
 "nbformat": 4,
 "nbformat_minor": 5
}
